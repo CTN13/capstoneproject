{
 "cells": [
  {
   "cell_type": "code",
   "execution_count": 1,
   "id": "09dbdcb3-d062-41d8-85ea-cceeb602dc66",
   "metadata": {},
   "outputs": [
    {
     "name": "stdout",
     "output_type": "stream",
     "text": [
      "Collecting sqlalchemy==1.3.9\n",
      "  Using cached SQLAlchemy-1.3.9-cp312-cp312-linux_x86_64.whl\n",
      "Installing collected packages: sqlalchemy\n",
      "  Attempting uninstall: sqlalchemy\n",
      "    Found existing installation: SQLAlchemy 2.0.37\n",
      "    Uninstalling SQLAlchemy-2.0.37:\n",
      "      Successfully uninstalled SQLAlchemy-2.0.37\n",
      "\u001b[31mERROR: pip's dependency resolver does not currently take into account all the packages that are installed. This behaviour is the source of the following dependency conflicts.\n",
      "ipython-sql 0.5.0 requires sqlalchemy>=2.0, but you have sqlalchemy 1.3.9 which is incompatible.\n",
      "jupyterhub 5.2.1 requires SQLAlchemy>=1.4.1, but you have sqlalchemy 1.3.9 which is incompatible.\u001b[0m\u001b[31m\n",
      "\u001b[0mSuccessfully installed sqlalchemy-1.3.9\n"
     ]
    }
   ],
   "source": [
    "!pip install sqlalchemy==1.3.9"
   ]
  },
  {
   "cell_type": "code",
   "execution_count": 2,
   "id": "18ce1cc8-ce18-4463-b776-a5293d2816c9",
   "metadata": {},
   "outputs": [
    {
     "name": "stdout",
     "output_type": "stream",
     "text": [
      "Requirement already satisfied: ipython-sql in /opt/conda/lib/python3.12/site-packages (0.5.0)\n",
      "Requirement already satisfied: prettytable in /opt/conda/lib/python3.12/site-packages (from ipython-sql) (3.14.0)\n",
      "Requirement already satisfied: ipython in /opt/conda/lib/python3.12/site-packages (from ipython-sql) (8.31.0)\n",
      "Collecting sqlalchemy>=2.0 (from ipython-sql)\n",
      "  Using cached SQLAlchemy-2.0.37-cp312-cp312-manylinux_2_17_x86_64.manylinux2014_x86_64.whl.metadata (9.6 kB)\n",
      "Requirement already satisfied: sqlparse in /opt/conda/lib/python3.12/site-packages (from ipython-sql) (0.5.3)\n",
      "Requirement already satisfied: six in /opt/conda/lib/python3.12/site-packages (from ipython-sql) (1.17.0)\n",
      "Requirement already satisfied: ipython-genutils in /opt/conda/lib/python3.12/site-packages (from ipython-sql) (0.2.0)\n",
      "Requirement already satisfied: greenlet!=0.4.17 in /opt/conda/lib/python3.12/site-packages (from sqlalchemy>=2.0->ipython-sql) (3.1.1)\n",
      "Requirement already satisfied: typing-extensions>=4.6.0 in /opt/conda/lib/python3.12/site-packages (from sqlalchemy>=2.0->ipython-sql) (4.12.2)\n",
      "Requirement already satisfied: decorator in /opt/conda/lib/python3.12/site-packages (from ipython->ipython-sql) (5.1.1)\n",
      "Requirement already satisfied: jedi>=0.16 in /opt/conda/lib/python3.12/site-packages (from ipython->ipython-sql) (0.19.2)\n",
      "Requirement already satisfied: matplotlib-inline in /opt/conda/lib/python3.12/site-packages (from ipython->ipython-sql) (0.1.7)\n",
      "Requirement already satisfied: pexpect>4.3 in /opt/conda/lib/python3.12/site-packages (from ipython->ipython-sql) (4.9.0)\n",
      "Requirement already satisfied: prompt_toolkit<3.1.0,>=3.0.41 in /opt/conda/lib/python3.12/site-packages (from ipython->ipython-sql) (3.0.50)\n",
      "Requirement already satisfied: pygments>=2.4.0 in /opt/conda/lib/python3.12/site-packages (from ipython->ipython-sql) (2.19.1)\n",
      "Requirement already satisfied: stack_data in /opt/conda/lib/python3.12/site-packages (from ipython->ipython-sql) (0.6.3)\n",
      "Requirement already satisfied: traitlets>=5.13.0 in /opt/conda/lib/python3.12/site-packages (from ipython->ipython-sql) (5.14.3)\n",
      "Requirement already satisfied: wcwidth in /opt/conda/lib/python3.12/site-packages (from prettytable->ipython-sql) (0.2.13)\n",
      "Requirement already satisfied: parso<0.9.0,>=0.8.4 in /opt/conda/lib/python3.12/site-packages (from jedi>=0.16->ipython->ipython-sql) (0.8.4)\n",
      "Requirement already satisfied: ptyprocess>=0.5 in /opt/conda/lib/python3.12/site-packages (from pexpect>4.3->ipython->ipython-sql) (0.7.0)\n",
      "Requirement already satisfied: executing>=1.2.0 in /opt/conda/lib/python3.12/site-packages (from stack_data->ipython->ipython-sql) (2.1.0)\n",
      "Requirement already satisfied: asttokens>=2.1.0 in /opt/conda/lib/python3.12/site-packages (from stack_data->ipython->ipython-sql) (3.0.0)\n",
      "Requirement already satisfied: pure_eval in /opt/conda/lib/python3.12/site-packages (from stack_data->ipython->ipython-sql) (0.2.3)\n",
      "Using cached SQLAlchemy-2.0.37-cp312-cp312-manylinux_2_17_x86_64.manylinux2014_x86_64.whl (3.3 MB)\n",
      "Installing collected packages: sqlalchemy\n",
      "  Attempting uninstall: sqlalchemy\n",
      "    Found existing installation: SQLAlchemy 1.3.9\n",
      "    Uninstalling SQLAlchemy-1.3.9:\n",
      "      Successfully uninstalled SQLAlchemy-1.3.9\n",
      "Successfully installed sqlalchemy-2.0.37\n",
      "Requirement already satisfied: ipython-sql in /opt/conda/lib/python3.12/site-packages (0.5.0)\n",
      "Requirement already satisfied: prettytable in /opt/conda/lib/python3.12/site-packages (3.14.0)\n",
      "Requirement already satisfied: ipython in /opt/conda/lib/python3.12/site-packages (from ipython-sql) (8.31.0)\n",
      "Requirement already satisfied: sqlalchemy>=2.0 in /opt/conda/lib/python3.12/site-packages (from ipython-sql) (2.0.37)\n",
      "Requirement already satisfied: sqlparse in /opt/conda/lib/python3.12/site-packages (from ipython-sql) (0.5.3)\n",
      "Requirement already satisfied: six in /opt/conda/lib/python3.12/site-packages (from ipython-sql) (1.17.0)\n",
      "Requirement already satisfied: ipython-genutils in /opt/conda/lib/python3.12/site-packages (from ipython-sql) (0.2.0)\n",
      "Requirement already satisfied: wcwidth in /opt/conda/lib/python3.12/site-packages (from prettytable) (0.2.13)\n",
      "Requirement already satisfied: greenlet!=0.4.17 in /opt/conda/lib/python3.12/site-packages (from sqlalchemy>=2.0->ipython-sql) (3.1.1)\n",
      "Requirement already satisfied: typing-extensions>=4.6.0 in /opt/conda/lib/python3.12/site-packages (from sqlalchemy>=2.0->ipython-sql) (4.12.2)\n",
      "Requirement already satisfied: decorator in /opt/conda/lib/python3.12/site-packages (from ipython->ipython-sql) (5.1.1)\n",
      "Requirement already satisfied: jedi>=0.16 in /opt/conda/lib/python3.12/site-packages (from ipython->ipython-sql) (0.19.2)\n",
      "Requirement already satisfied: matplotlib-inline in /opt/conda/lib/python3.12/site-packages (from ipython->ipython-sql) (0.1.7)\n",
      "Requirement already satisfied: pexpect>4.3 in /opt/conda/lib/python3.12/site-packages (from ipython->ipython-sql) (4.9.0)\n",
      "Requirement already satisfied: prompt_toolkit<3.1.0,>=3.0.41 in /opt/conda/lib/python3.12/site-packages (from ipython->ipython-sql) (3.0.50)\n",
      "Requirement already satisfied: pygments>=2.4.0 in /opt/conda/lib/python3.12/site-packages (from ipython->ipython-sql) (2.19.1)\n",
      "Requirement already satisfied: stack_data in /opt/conda/lib/python3.12/site-packages (from ipython->ipython-sql) (0.6.3)\n",
      "Requirement already satisfied: traitlets>=5.13.0 in /opt/conda/lib/python3.12/site-packages (from ipython->ipython-sql) (5.14.3)\n",
      "Requirement already satisfied: parso<0.9.0,>=0.8.4 in /opt/conda/lib/python3.12/site-packages (from jedi>=0.16->ipython->ipython-sql) (0.8.4)\n",
      "Requirement already satisfied: ptyprocess>=0.5 in /opt/conda/lib/python3.12/site-packages (from pexpect>4.3->ipython->ipython-sql) (0.7.0)\n",
      "Requirement already satisfied: executing>=1.2.0 in /opt/conda/lib/python3.12/site-packages (from stack_data->ipython->ipython-sql) (2.1.0)\n",
      "Requirement already satisfied: asttokens>=2.1.0 in /opt/conda/lib/python3.12/site-packages (from stack_data->ipython->ipython-sql) (3.0.0)\n",
      "Requirement already satisfied: pure_eval in /opt/conda/lib/python3.12/site-packages (from stack_data->ipython->ipython-sql) (0.2.3)\n"
     ]
    }
   ],
   "source": [
    "!pip install ipython-sql\n",
    "!pip install ipython-sql prettytable"
   ]
  },
  {
   "cell_type": "code",
   "execution_count": 3,
   "id": "a58b2cdf-44f2-4395-b6d4-aeb38a624bbc",
   "metadata": {},
   "outputs": [],
   "source": [
    "%load_ext sql"
   ]
  },
  {
   "cell_type": "code",
   "execution_count": 4,
   "id": "b98c5014-6b34-48ba-bf07-ec45efd54ea0",
   "metadata": {},
   "outputs": [],
   "source": [
    "import csv, sqlite3\n",
    "import prettytable\n",
    "prettytable.DEFAULT = 'DEFAULT'\n",
    "\n",
    "con = sqlite3.connect(\"my_data1.db\")\n",
    "cur = con.cursor()"
   ]
  },
  {
   "cell_type": "code",
   "execution_count": 5,
   "id": "4f284f13-0617-4c7b-a378-9e5ee5a56fd7",
   "metadata": {},
   "outputs": [],
   "source": [
    "!pip install -q pandas"
   ]
  },
  {
   "cell_type": "code",
   "execution_count": 6,
   "id": "dc856b77-f904-4536-87a0-ee4a3f495a4f",
   "metadata": {},
   "outputs": [],
   "source": [
    "%sql sqlite:///my_data1.db"
   ]
  },
  {
   "cell_type": "code",
   "execution_count": 7,
   "id": "c9a9bd4d-1183-4075-a1e9-6df66a6e130e",
   "metadata": {},
   "outputs": [
    {
     "data": {
      "text/plain": [
       "101"
      ]
     },
     "execution_count": 7,
     "metadata": {},
     "output_type": "execute_result"
    }
   ],
   "source": [
    "import pandas as pd\n",
    "df = pd.read_csv(\"https://cf-courses-data.s3.us.cloud-object-storage.appdomain.cloud/IBM-DS0321EN-SkillsNetwork/labs/module_2/data/Spacex.csv\")\n",
    "df.to_sql(\"SPACEXTBL\", con, if_exists='replace', index=False,method=\"multi\")"
   ]
  },
  {
   "cell_type": "code",
   "execution_count": 8,
   "id": "08a1c2f3-0c88-4765-ac2f-26f854284da3",
   "metadata": {},
   "outputs": [
    {
     "name": "stdout",
     "output_type": "stream",
     "text": [
      " * sqlite:///my_data1.db\n",
      "Done.\n"
     ]
    },
    {
     "data": {
      "text/plain": [
       "[]"
      ]
     },
     "execution_count": 8,
     "metadata": {},
     "output_type": "execute_result"
    }
   ],
   "source": [
    "#DROP THE TABLE IF EXISTS\n",
    "\n",
    "%sql DROP TABLE IF EXISTS SPACEXTABLE;"
   ]
  },
  {
   "cell_type": "code",
   "execution_count": 9,
   "id": "e8711c54-7db9-4318-9dad-488eec688794",
   "metadata": {},
   "outputs": [
    {
     "name": "stdout",
     "output_type": "stream",
     "text": [
      " * sqlite:///my_data1.db\n",
      "Done.\n"
     ]
    },
    {
     "data": {
      "text/plain": [
       "[]"
      ]
     },
     "execution_count": 9,
     "metadata": {},
     "output_type": "execute_result"
    }
   ],
   "source": [
    "%sql create table SPACEXTABLE as select * from SPACEXTBL where Date is not null"
   ]
  },
  {
   "cell_type": "code",
   "execution_count": null,
   "id": "4cd0198d-173a-4290-b440-f88e285f6ab1",
   "metadata": {},
   "outputs": [],
   "source": [
    "### Task 1 Display the names of the unique launch sites in the space mission"
   ]
  },
  {
   "cell_type": "code",
   "execution_count": null,
   "id": "855416fa-9580-40be-82b1-c0ebe12ea15c",
   "metadata": {},
   "outputs": [],
   "source": [
    "%sql select distinct launch_site from SPACEXDATASET;"
   ]
  },
  {
   "cell_type": "code",
   "execution_count": null,
   "id": "b25dad90-e7a0-4055-a98b-3743d565a4dc",
   "metadata": {},
   "outputs": [],
   "source": [
    "launch_site\n",
    "CCAFS LC-40\n",
    "CCAFS SLC-40\n",
    "KSC LC-39A\n",
    "VAFB SLC-4E"
   ]
  },
  {
   "cell_type": "code",
   "execution_count": null,
   "id": "443a347f-907e-49a1-a54d-c06d53f701fe",
   "metadata": {},
   "outputs": [],
   "source": [
    "### Task 2 Display 5 records where launch sites begin with the string 'CCA'"
   ]
  },
  {
   "cell_type": "code",
   "execution_count": null,
   "id": "72c59052-9f35-4eeb-b676-5922fd3aed65",
   "metadata": {},
   "outputs": [],
   "source": [
    "%sql select * from SPACEXDATASET where launch_site like 'CCA%' limit 5;"
   ]
  },
  {
   "cell_type": "code",
   "execution_count": null,
   "id": "b76e1766-3148-4007-afc8-11434d759bc2",
   "metadata": {},
   "outputs": [],
   "source": [
    "DATE\ttime__utc_\tbooster_version\tlaunch_site\tpayload\tpayload_mass__kg_\torbit\tcustomer\tmission_outcome\tlanding__outcome\n",
    "2010-06-04\t18:45:00\tF9 v1.0 B0003\tCCAFS LC-40\tDragon Spacecraft Qualification Unit\t0\tLEO\tSpaceX\tSuccess\tFailure (parachute)\n",
    "2010-12-08\t15:43:00\tF9 v1.0 B0004\tCCAFS LC-40\tDragon demo flight C1, two CubeSats, barrel of Brouere cheese\t0\tLEO (ISS)\tNASA (COTS) NRO\tSuccess\tFailure (parachute)\n",
    "2012-05-22\t07:44:00\tF9 v1.0 B0005\tCCAFS LC-40\tDragon demo flight C2\t525\tLEO (ISS)\tNASA (COTS)\tSuccess\tNo attempt\n",
    "2012-10-08\t00:35:00\tF9 v1.0 B0006\tCCAFS LC-40\tSpaceX CRS-1\t500\tLEO (ISS)\tNASA (CRS)\tSuccess\tNo attempt\n",
    "2013-03-01\t15:10:00\tF9 v1.0 B0007\tCCAFS LC-40\tSpaceX CRS-2\t677\tLEO (ISS)\tNASA (CRS)\tSuccess\tNo attempt"
   ]
  },
  {
   "cell_type": "code",
   "execution_count": null,
   "id": "17d05aac-0d9c-405b-a7c2-4bb38c7607a5",
   "metadata": {},
   "outputs": [],
   "source": [
    "### Task 3 Display the total payload mass carried by boosters launched by NASA (CRS)"
   ]
  },
  {
   "cell_type": "code",
   "execution_count": null,
   "id": "7fa1f517-7057-42f9-aee3-be8b0cd9cbee",
   "metadata": {},
   "outputs": [],
   "source": [
    "%sql select sum(payload_mass__kg_) as total_payload_mass from SPACEXDATASET where customer = 'NASA (CRS)';"
   ]
  },
  {
   "cell_type": "code",
   "execution_count": null,
   "id": "a8f629eb-22d6-4ca9-b712-25f5c76ea073",
   "metadata": {},
   "outputs": [],
   "source": [
    "total_payload_mass\n",
    "45596"
   ]
  },
  {
   "cell_type": "code",
   "execution_count": null,
   "id": "2f6bc89c-c00f-47d5-b095-fee33d24d282",
   "metadata": {},
   "outputs": [],
   "source": [
    "### Task 4 Display average payload mass carried by booster version F9 v1.1"
   ]
  },
  {
   "cell_type": "code",
   "execution_count": null,
   "id": "437f216a-c1e6-4e66-ba53-dd41a5b50dea",
   "metadata": {},
   "outputs": [],
   "source": [
    "%sql select avg(payload_mass__kg_) as average_payload_mass from SPACEXDATASET where booster_version like '%F9 v1.1%';"
   ]
  },
  {
   "cell_type": "code",
   "execution_count": null,
   "id": "961e4405-9c94-4673-8669-23b7b4e18923",
   "metadata": {},
   "outputs": [],
   "source": [
    "average_payload_mass\n",
    "2534"
   ]
  },
  {
   "cell_type": "code",
   "execution_count": null,
   "id": "882a28f5-6e65-4236-8d95-c01f00bd5c9c",
   "metadata": {},
   "outputs": [],
   "source": [
    "### Task 5 List the date when the first succesful landing outcome in ground pad was acheived."
   ]
  },
  {
   "cell_type": "code",
   "execution_count": null,
   "id": "e5f9ecc4-a8d7-45d7-aab6-fb464c417ee6",
   "metadata": {},
   "outputs": [],
   "source": [
    "%sql select min(date) as first_successful_landing from SPACEXDATASET where landing__outcome = 'Success (ground pad)';"
   ]
  },
  {
   "cell_type": "code",
   "execution_count": null,
   "id": "dcd873d9-d399-49de-b0d6-21cead4315fe",
   "metadata": {},
   "outputs": [],
   "source": [
    "first_successful_landing\n",
    "2015-12-22"
   ]
  },
  {
   "cell_type": "code",
   "execution_count": null,
   "id": "5048b59b-bab5-41de-814a-abd41bd190e6",
   "metadata": {},
   "outputs": [],
   "source": [
    "### Task 6 List the names of the boosters which have success in drone ship and have payload mass greater than 4000 but less than 6000"
   ]
  },
  {
   "cell_type": "code",
   "execution_count": null,
   "id": "b12d4a7a-09f3-43e2-bd0f-6bfb13e93fd4",
   "metadata": {},
   "outputs": [],
   "source": [
    "%sql select booster_version from SPACEXDATASET where landing__outcome = 'Success (drone ship)' and payload_mass__kg_ between 4000 and 6000;"
   ]
  },
  {
   "cell_type": "code",
   "execution_count": null,
   "id": "4754eaad-3ca3-4227-ab4e-845fda5bdcad",
   "metadata": {},
   "outputs": [],
   "source": [
    "booster_version\n",
    "F9 FT B1022\n",
    "F9 FT B1026\n",
    "F9 FT B1021.2\n",
    "F9 FT B1031.2"
   ]
  },
  {
   "cell_type": "code",
   "execution_count": null,
   "id": "c137da8e-152d-4d39-9564-ade3b1118d69",
   "metadata": {},
   "outputs": [],
   "source": [
    "### Task 7 List the total number of successful and failure mission outcomes"
   ]
  },
  {
   "cell_type": "code",
   "execution_count": null,
   "id": "f252e4d7-27b5-475a-8451-93ce5e46cbc2",
   "metadata": {},
   "outputs": [],
   "source": [
    "%sql select mission_outcome, count(*) as total_number from SPACEXDATASET group by mission_outcome;"
   ]
  },
  {
   "cell_type": "code",
   "execution_count": null,
   "id": "c911e6c9-f9e9-45ee-926e-aa3e36565f7f",
   "metadata": {},
   "outputs": [],
   "source": [
    "mission_outcome\ttotal_number\n",
    "Failure (in flight)\t1\n",
    "Success\t99\n",
    "Success (payload status unclear)\t1"
   ]
  },
  {
   "cell_type": "code",
   "execution_count": null,
   "id": "eb82cff1-20ee-4a2a-aad6-627bd6069052",
   "metadata": {},
   "outputs": [],
   "source": [
    "### Task 8 List the names of the booster_versions which have carried the maximum payload mass. Use a subquery"
   ]
  },
  {
   "cell_type": "code",
   "execution_count": null,
   "id": "3d21555d-a9a0-4590-8c2f-e3244f625dc8",
   "metadata": {},
   "outputs": [],
   "source": [
    "%sql select booster_version from SPACEXDATASET where payload_mass__kg_ = (select max(payload_mass__kg_) from SPACEXDATASET);"
   ]
  }
 ],
 "metadata": {
  "kernelspec": {
   "display_name": "Python 3 (ipykernel)",
   "language": "python",
   "name": "python3"
  },
  "language_info": {
   "codemirror_mode": {
    "name": "ipython",
    "version": 3
   },
   "file_extension": ".py",
   "mimetype": "text/x-python",
   "name": "python",
   "nbconvert_exporter": "python",
   "pygments_lexer": "ipython3",
   "version": "3.12.8"
  }
 },
 "nbformat": 4,
 "nbformat_minor": 5
}
